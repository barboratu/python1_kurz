{
 "cells": [
  {
   "attachments": {},
   "cell_type": "markdown",
   "metadata": {},
   "source": [
    "## Úkol č. 8 Adopce zvířat"
   ]
  },
  {
   "attachments": {},
   "cell_type": "markdown",
   "metadata": {},
   "source": [
    "##### 1. Naimportujeme si modul pandas a načteme soubor zvirata.csv pomocí metody pandas.read_csv()."
   ]
  },
  {
   "cell_type": "code",
   "execution_count": 34,
   "metadata": {},
   "outputs": [],
   "source": [
    "import pandas"
   ]
  },
  {
   "cell_type": "code",
   "execution_count": 35,
   "metadata": {},
   "outputs": [],
   "source": [
    "adopce = pandas.read_csv(\"zvirata.csv\", sep=\";\")"
   ]
  },
  {
   "attachments": {},
   "cell_type": "markdown",
   "metadata": {},
   "source": [
    "##### 2. Kolik má tabulka řádků a sloupců? Jaké mají názvy?"
   ]
  },
  {
   "cell_type": "code",
   "execution_count": 36,
   "metadata": {},
   "outputs": [
    {
     "data": {
      "text/plain": [
       "(513, 6)"
      ]
     },
     "execution_count": 36,
     "metadata": {},
     "output_type": "execute_result"
    }
   ],
   "source": [
    "adopce.shape"
   ]
  },
  {
   "cell_type": "code",
   "execution_count": 37,
   "metadata": {},
   "outputs": [
    {
     "data": {
      "text/plain": [
       "Index(['id', 'nazev_cz', 'nazev_en', 'trida_cz', 'cena', 'k_prohlidce'], dtype='object')"
      ]
     },
     "execution_count": 37,
     "metadata": {},
     "output_type": "execute_result"
    }
   ],
   "source": [
    "adopce.columns"
   ]
  },
  {
   "attachments": {},
   "cell_type": "markdown",
   "metadata": {},
   "source": [
    "##### 3. Které zvíře se nachází na záznamu s indexem 34? Vypiš název tohoto zvířete v češtině a v angličtině."
   ]
  },
  {
   "cell_type": "code",
   "execution_count": 38,
   "metadata": {},
   "outputs": [
    {
     "data": {
      "text/plain": [
       "id                     99\n",
       "nazev_cz        Ibis bílý\n",
       "nazev_en       White ibis\n",
       "trida_cz            Ptáci\n",
       "cena                 3000\n",
       "k_prohlidce             1\n",
       "Name: 34, dtype: object"
      ]
     },
     "execution_count": 38,
     "metadata": {},
     "output_type": "execute_result"
    }
   ],
   "source": [
    "adopce.iloc[34]"
   ]
  },
  {
   "cell_type": "code",
   "execution_count": 39,
   "metadata": {},
   "outputs": [
    {
     "data": {
      "text/plain": [
       "'Ibis bílý'"
      ]
     },
     "execution_count": 39,
     "metadata": {},
     "output_type": "execute_result"
    }
   ],
   "source": [
    "adopce.iloc[34][\"nazev_cz\"]"
   ]
  },
  {
   "cell_type": "code",
   "execution_count": 40,
   "metadata": {},
   "outputs": [
    {
     "data": {
      "text/plain": [
       "'White ibis'"
      ]
     },
     "execution_count": 40,
     "metadata": {},
     "output_type": "execute_result"
    }
   ],
   "source": [
    "adopce.iloc[34][\"nazev_en\"]"
   ]
  },
  {
   "attachments": {},
   "cell_type": "markdown",
   "metadata": {},
   "source": [
    "##### 4. Využij metody sort_values() (a libovolných dalších metod), ke zjištění následujících informací: Adopce kterých zvířat je nejdražší?"
   ]
  },
  {
   "cell_type": "code",
   "execution_count": 41,
   "metadata": {},
   "outputs": [],
   "source": [
    "nejdrazsi = adopce.sort_values(by=\"cena\", ascending=False)"
   ]
  },
  {
   "cell_type": "code",
   "execution_count": 42,
   "metadata": {},
   "outputs": [
    {
     "name": "stdout",
     "output_type": "stream",
     "text": [
      "id                         335\n",
      "nazev_cz       Tygr sumaterský\n",
      "nazev_en        Sumatran tiger\n",
      "trida_cz                 Savci\n",
      "cena                     50000\n",
      "k_prohlidce                  1\n",
      "Name: 114, dtype: object\n"
     ]
    }
   ],
   "source": [
    "nejdrazsi_zvire = nejdrazsi.iloc[0]\n",
    "print(nejdrazsi_zvire)"
   ]
  },
  {
   "attachments": {},
   "cell_type": "markdown",
   "metadata": {},
   "source": [
    "##### 5. Které zvíře je alfabeticky poslední v češtině? Které v angličtině?"
   ]
  },
  {
   "cell_type": "code",
   "execution_count": 43,
   "metadata": {},
   "outputs": [
    {
     "name": "stdout",
     "output_type": "stream",
     "text": [
      "       id                                   nazev_cz                 nazev_en   \n",
      "371  1190                                Žluva hajní   Eurasian golden oriole  \\\n",
      "321  1069                                Žluna větší       Greater yellownape   \n",
      "135   396  Žirafa severní núbijská (= Rothschildova)   Rothschild's giraffe     \n",
      "4      37                            Želva žlutočelá   Indochinese box turtle   \n",
      "211   673                              Želva černavá  Giant Asian pond turtle   \n",
      "..    ...                                        ...                      ...   \n",
      "391  1233                             Agamka písečná        Toad-headed agama   \n",
      "383  1215                         Agama turkestánská     Turkestan rock agama   \n",
      "382  1214                               Agama stepní             Steppe agama   \n",
      "138   402                                       Adax                    Addax   \n",
      "194   621                             Achatina žravá      Giant African snail   \n",
      "\n",
      "       trida_cz   cena  k_prohlidce  \n",
      "371       Ptáci   1000            1  \n",
      "321       Ptáci   1500            1  \n",
      "135       Savci  50000            1  \n",
      "4         Plazi   1000            1  \n",
      "211       Plazi   2000            1  \n",
      "..          ...    ...          ...  \n",
      "391       Plazi   1500            1  \n",
      "383       Plazi   1500            1  \n",
      "382       Plazi   1000            1  \n",
      "138       Savci   5000            1  \n",
      "194  Bezobratlí   1000            1  \n",
      "\n",
      "[513 rows x 6 columns]\n"
     ]
    }
   ],
   "source": [
    "abecedne_cz = adopce.sort_values(by=\"nazev_cz\", ascending=False)\n",
    "print(abecedne_cz)"
   ]
  },
  {
   "cell_type": "code",
   "execution_count": 44,
   "metadata": {},
   "outputs": [
    {
     "name": "stdout",
     "output_type": "stream",
     "text": [
      "       id             nazev_cz                 nazev_en trida_cz  cena   \n",
      "161   491  Frankolín žlutokrký  Yellow-necked francolin    Ptáci  1000  \\\n",
      "455  1347    Vlhovec žlutokápý  Yellow-hooded blackbird    Ptáci  1000   \n",
      "341  1140      Majna žlutolící       Yellow-faced mynah    Ptáci  2000   \n",
      "230   745        Nesyt africký      Yellow-billed stork    Ptáci  2500   \n",
      "196   628       Mangusta liščí          Yellow mongoose    Savci  5000   \n",
      "..    ...                  ...                      ...      ...   ...   \n",
      "303  1010        Zvonek zelený                             Ptáci  1000   \n",
      "491  1396       Kolpík africký                             Ptáci  3000   \n",
      "249   800          Husa domácí                             Ptáci  1500   \n",
      "483  1385  Tkalčík červenozobý                             Ptáci  1000   \n",
      "512  1421   Kachnice kaštanová                             Ptáci  1000   \n",
      "\n",
      "     k_prohlidce  \n",
      "161            1  \n",
      "455            0  \n",
      "341            1  \n",
      "230            0  \n",
      "196            1  \n",
      "..           ...  \n",
      "303            1  \n",
      "491            1  \n",
      "249            1  \n",
      "483            1  \n",
      "512            1  \n",
      "\n",
      "[513 rows x 6 columns]\n"
     ]
    }
   ],
   "source": [
    "abecedne_en = adopce.sort_values(by=\"nazev_en\", ascending=False)\n",
    "print(abecedne_en)"
   ]
  }
 ],
 "metadata": {
  "kernelspec": {
   "display_name": "Python 3",
   "language": "python",
   "name": "python3"
  },
  "language_info": {
   "codemirror_mode": {
    "name": "ipython",
    "version": 3
   },
   "file_extension": ".py",
   "mimetype": "text/x-python",
   "name": "python",
   "nbconvert_exporter": "python",
   "pygments_lexer": "ipython3",
   "version": "3.9.10"
  },
  "orig_nbformat": 4
 },
 "nbformat": 4,
 "nbformat_minor": 2
}
